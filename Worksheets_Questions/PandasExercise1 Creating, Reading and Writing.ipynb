{
 "cells": [
  {
   "cell_type": "markdown",
   "metadata": {},
   "source": [
    "**[Pandas Home Page](https://www.kaggle.com/learn/pandas)**\n",
    "\n",
    "---\n"
   ]
  },
  {
   "cell_type": "markdown",
   "metadata": {},
   "source": [
    "# Introduction\n",
    "\n",
    "The first step in most data analytics projects is reading the data file. In this exercise, you'll create Series and DataFrame objects, both by hand and by reading data files.\n",
    "\n",
    "Run the code cell below to load libraries you will need (including code to check your answers)."
   ]
  },
  {
   "cell_type": "code",
   "execution_count": 27,
   "metadata": {},
   "outputs": [],
   "source": [
    "import pandas as pd"
   ]
  },
  {
   "cell_type": "markdown",
   "metadata": {},
   "source": [
    "# Exercises"
   ]
  },
  {
   "cell_type": "markdown",
   "metadata": {},
   "source": [
    "## 1.\n",
    "\n",
    "In the cell below, create a DataFrame `class_sizes` that looks like this:\n",
    "\n",
    "![](images/class_sizes.png)"
   ]
  },
  {
   "cell_type": "code",
   "execution_count": 28,
   "metadata": {},
   "outputs": [
    {
     "data": {
      "text/html": [
       "<div>\n",
       "<style scoped>\n",
       "    .dataframe tbody tr th:only-of-type {\n",
       "        vertical-align: middle;\n",
       "    }\n",
       "\n",
       "    .dataframe tbody tr th {\n",
       "        vertical-align: top;\n",
       "    }\n",
       "\n",
       "    .dataframe thead th {\n",
       "        text-align: right;\n",
       "    }\n",
       "</style>\n",
       "<table border=\"1\" class=\"dataframe\">\n",
       "  <thead>\n",
       "    <tr style=\"text-align: right;\">\n",
       "      <th></th>\n",
       "      <th>Software Dev</th>\n",
       "      <th>Internet Systems Dev</th>\n",
       "    </tr>\n",
       "  </thead>\n",
       "  <tbody>\n",
       "    <tr>\n",
       "      <th>0</th>\n",
       "      <td>26</td>\n",
       "      <td>32</td>\n",
       "    </tr>\n",
       "  </tbody>\n",
       "</table>\n",
       "</div>"
      ],
      "text/plain": [
       "   Software Dev  Internet Systems Dev\n",
       "0            26                    32"
      ]
     },
     "execution_count": 28,
     "metadata": {},
     "output_type": "execute_result"
    }
   ],
   "source": [
    "# Your code goes here. Create a dataframe matching the above diagram\n",
    "class_sizes = pd.DataFrame({'Software Dev': [26], 'Internet Systems Dev': [32]})\n",
    "\n",
    "# Check your answer\n",
    "class_sizes"
   ]
  },
  {
   "cell_type": "markdown",
   "metadata": {},
   "source": [
    "## 2.\n",
    "\n",
    "Create a dataframe `yearly_class_sizes` that matches the diagram below:\n",
    "\n",
    "![](images/yearly_class_sizes.png)"
   ]
  },
  {
   "cell_type": "code",
   "execution_count": 29,
   "metadata": {},
   "outputs": [
    {
     "data": {
      "text/html": [
       "<div>\n",
       "<style scoped>\n",
       "    .dataframe tbody tr th:only-of-type {\n",
       "        vertical-align: middle;\n",
       "    }\n",
       "\n",
       "    .dataframe tbody tr th {\n",
       "        vertical-align: top;\n",
       "    }\n",
       "\n",
       "    .dataframe thead th {\n",
       "        text-align: right;\n",
       "    }\n",
       "</style>\n",
       "<table border=\"1\" class=\"dataframe\">\n",
       "  <thead>\n",
       "    <tr style=\"text-align: right;\">\n",
       "      <th></th>\n",
       "      <th>Software Dev</th>\n",
       "      <th>Internet Systems Dev</th>\n",
       "    </tr>\n",
       "  </thead>\n",
       "  <tbody>\n",
       "    <tr>\n",
       "      <th>2020</th>\n",
       "      <td>26</td>\n",
       "      <td>32</td>\n",
       "    </tr>\n",
       "    <tr>\n",
       "      <th>2021</th>\n",
       "      <td>34</td>\n",
       "      <td>22</td>\n",
       "    </tr>\n",
       "  </tbody>\n",
       "</table>\n",
       "</div>"
      ],
      "text/plain": [
       "      Software Dev  Internet Systems Dev\n",
       "2020            26                    32\n",
       "2021            34                    22"
      ]
     },
     "execution_count": 29,
     "metadata": {},
     "output_type": "execute_result"
    }
   ],
   "source": [
    "# Your code goes here. Create a dataframe matching the above diagram\n",
    "yearly_class_sizes = pd.DataFrame( {'Software Dev': [26, 34], 'Internet Systems Dev': [32, 22]}, index=['2020', '2021'] )\n",
    "\n",
    "# Check your answer\n",
    "yearly_class_sizes"
   ]
  },
  {
   "cell_type": "markdown",
   "metadata": {},
   "source": [
    "## 3.\n",
    "\n",
    "Create a variable `word_count` with a Series that looks like:\n",
    "\n",
    "```\n",
    "the     145\n",
    "you     122\n",
    "to       89\n",
    "word     86\n",
    "Name: word_count, dtype: int64\n",
    "```"
   ]
  },
  {
   "cell_type": "code",
   "execution_count": 30,
   "metadata": {},
   "outputs": [
    {
     "data": {
      "text/plain": [
       "the     145\n",
       "you     122\n",
       "to       89\n",
       "word     86\n",
       "Name: word_count, dtype: int64"
      ]
     },
     "execution_count": 30,
     "metadata": {},
     "output_type": "execute_result"
    }
   ],
   "source": [
    "word_count = pd.Series( [145, 122, 89, 86], index=['the', 'you', 'to', 'word'], name='word_count' )\n",
    "\n",
    "# Check your answer\n",
    "word_count"
   ]
  },
  {
   "cell_type": "markdown",
   "metadata": {},
   "source": [
    "## 4.\n",
    "\n",
    "Read the following csv dataset of Bangalore restaurant reviews from zomato into a DataFrame called `reviews`:\n",
    "\n",
    "![](images/bangalore_restaurants_zomato.png)\n",
    "\n",
    "The filepath to the csv file is `data/zomato.csv`. The first few lines look like:\n",
    "\n",
    "```\n",
    "url,address,name,online_order,book_table,rate,votes,phone,location,rest_type,dish_liked,cuisines,approx_cost(for two people),reviews_list,menu_item,listed_in(type),listed_in(city)\n",
    "https://www.zomato.com/bangalore/jalsa-banashankari?context=eyJzZSI6eyJlIjpbNTg2OTQsIjE4Mzc1NDc0IiwiNTkwOTAiLCIxODM4Mjk0NCIsIjE4MjI0Njc2IiwiNTkyODkiLCIxODM3MzM4NiJdLCJ0IjoiUmVzdGF1cmFudHMgaW4gQmFuYXNoYW5rYXJpIHNlcnZpbmcgQnVmZmV0In19,\"942, 21st Main Road, 2nd Stage, Banashankari, Bangalore\",Jalsa,Yes,Yes,4.1/5,775,\"080 42297555\n",
    "+91 9743772233\",Banashankari,Casual Dining,\"Pasta, Lunch Buffet, Masala Papad, \n",
    "```"
   ]
  },
  {
   "cell_type": "code",
   "execution_count": 31,
   "metadata": {},
   "outputs": [
    {
     "name": "stdout",
     "output_type": "stream",
     "text": [
      "                                                     url  \\\n",
      "0      https://www.zomato.com/bangalore/jalsa-banasha...   \n",
      "1      https://www.zomato.com/bangalore/spice-elephan...   \n",
      "2      https://www.zomato.com/SanchurroBangalore?cont...   \n",
      "3      https://www.zomato.com/bangalore/addhuri-udupi...   \n",
      "4      https://www.zomato.com/bangalore/grand-village...   \n",
      "...                                                  ...   \n",
      "51712  https://www.zomato.com/bangalore/best-brews-fo...   \n",
      "51713  https://www.zomato.com/bangalore/vinod-bar-and...   \n",
      "51714  https://www.zomato.com/bangalore/plunge-sherat...   \n",
      "51715  https://www.zomato.com/bangalore/chime-sherato...   \n",
      "51716  https://www.zomato.com/bangalore/the-nest-the-...   \n",
      "\n",
      "                                                 address  \\\n",
      "0      942, 21st Main Road, 2nd Stage, Banashankari, ...   \n",
      "1      2nd Floor, 80 Feet Road, Near Big Bazaar, 6th ...   \n",
      "2      1112, Next to KIMS Medical College, 17th Cross...   \n",
      "3      1st Floor, Annakuteera, 3rd Stage, Banashankar...   \n",
      "4      10, 3rd Floor, Lakshmi Associates, Gandhi Baza...   \n",
      "...                                                  ...   \n",
      "51712  Four Points by Sheraton Bengaluru, 43/3, White...   \n",
      "51713  Number 10, Garudachar Palya, Mahadevapura, Whi...   \n",
      "51714  Sheraton Grand Bengaluru Whitefield Hotel & Co...   \n",
      "51715  Sheraton Grand Bengaluru Whitefield Hotel & Co...   \n",
      "51716  ITPL Main Road, KIADB Export Promotion Industr...   \n",
      "\n",
      "                                                    name online_order  \\\n",
      "0                                                  Jalsa          Yes   \n",
      "1                                         Spice Elephant          Yes   \n",
      "2                                        San Churro Cafe          Yes   \n",
      "3                                  Addhuri Udupi Bhojana           No   \n",
      "4                                          Grand Village           No   \n",
      "...                                                  ...          ...   \n",
      "51712  Best Brews - Four Points by Sheraton Bengaluru...           No   \n",
      "51713                           Vinod Bar And Restaurant           No   \n",
      "51714  Plunge - Sheraton Grand Bengaluru Whitefield H...           No   \n",
      "51715  Chime - Sheraton Grand Bengaluru Whitefield Ho...           No   \n",
      "51716                       The Nest - The Den Bengaluru           No   \n",
      "\n",
      "      book_table    rate  votes                             phone  \\\n",
      "0            Yes   4.1/5    775    080 42297555\\r\\n+91 9743772233   \n",
      "1             No   4.1/5    787                      080 41714161   \n",
      "2             No   3.8/5    918                    +91 9663487993   \n",
      "3             No   3.7/5     88                    +91 9620009302   \n",
      "4             No   3.8/5    166  +91 8026612447\\r\\n+91 9901210005   \n",
      "...          ...     ...    ...                               ...   \n",
      "51712         No  3.6 /5     27                      080 40301477   \n",
      "51713         No     NaN      0                    +91 8197675843   \n",
      "51714         No     NaN      0                               NaN   \n",
      "51715        Yes  4.3 /5    236                      080 49652769   \n",
      "51716         No  3.4 /5     13                    +91 8071117272   \n",
      "\n",
      "                         location            rest_type  \\\n",
      "0                    Banashankari        Casual Dining   \n",
      "1                    Banashankari        Casual Dining   \n",
      "2                    Banashankari  Cafe, Casual Dining   \n",
      "3                    Banashankari          Quick Bites   \n",
      "4                    Basavanagudi        Casual Dining   \n",
      "...                           ...                  ...   \n",
      "51712                  Whitefield                  Bar   \n",
      "51713                  Whitefield                  Bar   \n",
      "51714                  Whitefield                  Bar   \n",
      "51715  ITPL Main Road, Whitefield                  Bar   \n",
      "51716  ITPL Main Road, Whitefield   Bar, Casual Dining   \n",
      "\n",
      "                                              dish_liked  \\\n",
      "0      Pasta, Lunch Buffet, Masala Papad, Paneer Laja...   \n",
      "1      Momos, Lunch Buffet, Chocolate Nirvana, Thai G...   \n",
      "2      Churros, Cannelloni, Minestrone Soup, Hot Choc...   \n",
      "3                                            Masala Dosa   \n",
      "4                                    Panipuri, Gol Gappe   \n",
      "...                                                  ...   \n",
      "51712                                                NaN   \n",
      "51713                                                NaN   \n",
      "51714                                                NaN   \n",
      "51715                       Cocktails, Pizza, Buttermilk   \n",
      "51716                                                NaN   \n",
      "\n",
      "                                     cuisines approx_cost(for two people)  \\\n",
      "0              North Indian, Mughlai, Chinese                         800   \n",
      "1                 Chinese, North Indian, Thai                         800   \n",
      "2                      Cafe, Mexican, Italian                         800   \n",
      "3                  South Indian, North Indian                         300   \n",
      "4                    North Indian, Rajasthani                         600   \n",
      "...                                       ...                         ...   \n",
      "51712                             Continental                       1,500   \n",
      "51713                             Finger Food                         600   \n",
      "51714                             Finger Food                       2,000   \n",
      "51715                             Finger Food                       2,500   \n",
      "51716  Finger Food, North Indian, Continental                       1,500   \n",
      "\n",
      "                                            reviews_list menu_item  \\\n",
      "0      [('Rated 4.0', 'RATED\\n  A beautiful place to ...        []   \n",
      "1      [('Rated 4.0', 'RATED\\n  Had been here for din...        []   \n",
      "2      [('Rated 3.0', \"RATED\\n  Ambience is not that ...        []   \n",
      "3      [('Rated 4.0', \"RATED\\n  Great food and proper...        []   \n",
      "4      [('Rated 4.0', 'RATED\\n  Very good restaurant ...        []   \n",
      "...                                                  ...       ...   \n",
      "51712  [('Rated 5.0', \"RATED\\n  Food and service are ...        []   \n",
      "51713                                                 []        []   \n",
      "51714                                                 []        []   \n",
      "51715  [('Rated 4.0', 'RATED\\n  Nice and friendly pla...        []   \n",
      "51716  [('Rated 5.0', 'RATED\\n  Great ambience , look...        []   \n",
      "\n",
      "      listed_in(type) listed_in(city)  \n",
      "0              Buffet    Banashankari  \n",
      "1              Buffet    Banashankari  \n",
      "2              Buffet    Banashankari  \n",
      "3              Buffet    Banashankari  \n",
      "4              Buffet    Banashankari  \n",
      "...               ...             ...  \n",
      "51712   Pubs and bars      Whitefield  \n",
      "51713   Pubs and bars      Whitefield  \n",
      "51714   Pubs and bars      Whitefield  \n",
      "51715   Pubs and bars      Whitefield  \n",
      "51716   Pubs and bars      Whitefield  \n",
      "\n",
      "[51717 rows x 17 columns]\n"
     ]
    }
   ],
   "source": [
    "reviews = pd.read_csv(\"data/zomato.csv\")\n",
    "print(reviews)"
   ]
  },
  {
   "cell_type": "markdown",
   "metadata": {},
   "source": [
    "## 5.\n",
    "\n",
    "Run the cell below to view the DataFrame `yearly_class_sizes` you created earlier:"
   ]
  },
  {
   "cell_type": "code",
   "execution_count": 32,
   "metadata": {},
   "outputs": [
    {
     "data": {
      "text/html": [
       "<div>\n",
       "<style scoped>\n",
       "    .dataframe tbody tr th:only-of-type {\n",
       "        vertical-align: middle;\n",
       "    }\n",
       "\n",
       "    .dataframe tbody tr th {\n",
       "        vertical-align: top;\n",
       "    }\n",
       "\n",
       "    .dataframe thead th {\n",
       "        text-align: right;\n",
       "    }\n",
       "</style>\n",
       "<table border=\"1\" class=\"dataframe\">\n",
       "  <thead>\n",
       "    <tr style=\"text-align: right;\">\n",
       "      <th></th>\n",
       "      <th>Software Dev</th>\n",
       "      <th>Internet Systems Dev</th>\n",
       "    </tr>\n",
       "  </thead>\n",
       "  <tbody>\n",
       "    <tr>\n",
       "      <th>2020</th>\n",
       "      <td>26</td>\n",
       "      <td>32</td>\n",
       "    </tr>\n",
       "    <tr>\n",
       "      <th>2021</th>\n",
       "      <td>34</td>\n",
       "      <td>22</td>\n",
       "    </tr>\n",
       "  </tbody>\n",
       "</table>\n",
       "</div>"
      ],
      "text/plain": [
       "      Software Dev  Internet Systems Dev\n",
       "2020            26                    32\n",
       "2021            34                    22"
      ]
     },
     "execution_count": 32,
     "metadata": {},
     "output_type": "execute_result"
    }
   ],
   "source": [
    "yearly_class_sizes"
   ]
  },
  {
   "cell_type": "markdown",
   "metadata": {},
   "source": [
    "In the cell below, write code to save this DataFrame to disk as a csv file with the name `future_superstar_developers.csv`."
   ]
  },
  {
   "cell_type": "code",
   "execution_count": 34,
   "metadata": {},
   "outputs": [],
   "source": [
    "# Your code goes here\n",
    "\n",
    "yearly_class_sizes.to_csv(\"future_superstar_developers.csv\")\n",
    "\n",
    "# Check your answer by looking in the folder this notebook is in\n"
   ]
  }
 ],
 "metadata": {
  "kernelspec": {
   "display_name": "Python 3 (ipykernel)",
   "language": "python",
   "name": "python3"
  },
  "language_info": {
   "codemirror_mode": {
    "name": "ipython",
    "version": 3
   },
   "file_extension": ".py",
   "mimetype": "text/x-python",
   "name": "python",
   "nbconvert_exporter": "python",
   "pygments_lexer": "ipython3",
   "version": "3.9.13"
  }
 },
 "nbformat": 4,
 "nbformat_minor": 1
}

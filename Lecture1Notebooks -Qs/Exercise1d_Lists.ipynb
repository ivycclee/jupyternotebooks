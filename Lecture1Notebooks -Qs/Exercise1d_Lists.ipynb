{
 "cells": [
  {
   "cell_type": "markdown",
   "metadata": {},
   "source": [
    "# Try It Yourself\n",
    "\n",
    "https://www.kaggle.com/learn/python"
   ]
  },
  {
   "cell_type": "markdown",
   "metadata": {},
   "source": [
    "# Exercises"
   ]
  },
  {
   "cell_type": "markdown",
   "metadata": {},
   "source": [
    "## 1.\n",
    "\n",
    "Complete the function below according to its docstring."
   ]
  },
  {
   "cell_type": "code",
   "execution_count": 3,
   "metadata": {},
   "outputs": [
    {
     "name": "stdout",
     "output_type": "stream",
     "text": [
      "[22, -48, 3]\n",
      "[-48, -97]\n"
     ]
    }
   ],
   "source": [
    "def lower_numbers(numList = [], max_number =0):\n",
    "    \"\"\"Return all the elements of the numList that are less than or equal to max_number\n",
    "    \"\"\"\n",
    "    temp = []\n",
    "    for x in numList:\n",
    "        if x <= max_number:\n",
    "            temp.append(x)\n",
    "            \n",
    "    return temp\n",
    "\n",
    "# Check your answer\n",
    "print(lower_numbers(numList = [22,-48,97,3], max_number =25))\n",
    "print(lower_numbers(numList = [22,-48,-97,3], max_number =-10))"
   ]
  },
  {
   "cell_type": "markdown",
   "metadata": {},
   "source": [
    "## 2.\n",
    "\n",
    "You are working for the Academy awards.  The judges want to see a list of all the supporting actors in the movies nominated for Oscars."
   ]
  },
  {
   "cell_type": "code",
   "execution_count": 4,
   "metadata": {},
   "outputs": [
    {
     "name": "stdout",
     "output_type": "stream",
     "text": [
      "['E.Cantona', 'A. Shearer', 'R. Fowler']\n"
     ]
    }
   ],
   "source": [
    "def supporting_actor(movies_cast):\n",
    "    \"\"\"Given a list of actors in a movie, return the 2nd actor each movie\n",
    "    \"\"\"\n",
    "    temp = []\n",
    "    \n",
    "    for cast in movies_cast:\n",
    "        temp.append(cast[1])\n",
    "        \n",
    "    return temp\n",
    "\n",
    "# Check your answer\n",
    "castList = [[\"A.Ferguson\", \"E.Cantona\", \"N. Butt\", \"P. Scholes\"], [\"G. Hoddle\",\"A. Shearer\", \"P. Beardsley\", \"F. Asprilla\"],[\"K. Daglish\", \"R. Fowler\", \"J. McAteer\", \"P. Babb\"]]\n",
    "print(supporting_actor(castList))"
   ]
  },
  {
   "cell_type": "markdown",
   "metadata": {},
   "source": [
    "## 3.\n",
    "\n",
    "Write a function to swap any two elements in a list"
   ]
  },
  {
   "cell_type": "code",
   "execution_count": 8,
   "metadata": {},
   "outputs": [
    {
     "data": {
      "text/plain": [
       "['P. Scholes', 'E.Cantona', 'N. Butt', 'A.Ferguson']"
      ]
     },
     "execution_count": 8,
     "metadata": {},
     "output_type": "execute_result"
    }
   ],
   "source": [
    "def swap_places(subj_list, index1=0, index2=1):\n",
    "    \"\"\"Given a list of elements, set the index1 element to index2 and vice versa.\n",
    "    \n",
    "    >>> r = ['A.Ferguson', 'E.Cantona', 'N. Butt', 'P. Scholes']\n",
    "    >>> swap_places(r, 0, 3)\n",
    "    >>> r\n",
    "    ['P. Scholes', 'E.Cantona', 'N. Butt', 'A.Ferguson']\n",
    "    \"\"\"\n",
    "    temp = subj_list[index1]\n",
    "    subj_list[index1] = subj_list[index2]\n",
    "    subj_list[index2] = temp\n",
    "    \n",
    "    return subj_list\n",
    "\n",
    "# Check your answer\n",
    "r = ['A.Ferguson', 'E.Cantona', 'N. Butt', 'P. Scholes']\n",
    "swap_places(r, 0, 3)"
   ]
  },
  {
   "cell_type": "markdown",
   "metadata": {},
   "source": [
    "## 4.\n",
    "\n",
    "What are the lengths of the following lists? Fill in the variable `lengths` with your predictions. (Try to make a prediction for each list *without* just calling `len()` on it.)"
   ]
  },
  {
   "cell_type": "code",
   "execution_count": 13,
   "metadata": {},
   "outputs": [
    {
     "data": {
      "text/plain": [
       "[4, 2, 8, 3, 1, 1]"
      ]
     },
     "execution_count": 13,
     "metadata": {},
     "output_type": "execute_result"
    }
   ],
   "source": [
    "a = ['A.Ferguson', 'E.Cantona', 'N. Butt', 'P. Scholes'] #4\n",
    "b = ['A.Ferguson', ['E.Cantona', 'N. Butt', 'P. Scholes']] #2\n",
    "c = ['A.Ferguson', 'E.Cantona', 'N. Butt', 'P. Scholes',1,2,3,4] #8\n",
    "d = ['A.Ferguson', 'E.Cantona', 'N. Butt', 'P. Scholes'][1:]\n",
    "e = ['A.Ferguson', 'E.Cantona', 'N. Butt', 'P. Scholes'][:-3]\n",
    "f = ['A.Ferguson', 'E.Cantona', 'N. Butt', 'P. Scholes'][:1]\n",
    "\n",
    "# Put your predictions in the list below. Lengths should contain 4 numbers, the\n",
    "# first being the length of a, the second being the length of b and so on.\n",
    "lengths = [len(a), len(b), len(c), len(d), len(e), len(f)]\n",
    "\n",
    "# Check your answer\n",
    "lengths\n",
    "\n"
   ]
  },
  {
   "cell_type": "markdown",
   "metadata": {},
   "source": [
    "## 5. \n",
    "\n",
    "Youare running a golf tournament over Saturday and Sunday. \n",
    "You want to have a final round on Sunday where only the best half of the competition take part\n",
    "\n",
    "    golfers = [\"A.Ferguson\", \"E.Cantona\", \"N. Butt\", \"P. Scholes\", \"G. Hoddle\",\"A. Shearer\", \"P. Beardsley\", \"F. Asprilla\"]\n",
    "\n",
    "You will be passed a list of participants and the order in which they finished.\n",
    "<br>Return a list of the first 50% of participants. \n",
    "<br>If there is an odd number round up.\n",
    "<br>e.g. 8 players means the top 4 proceed. 9 players mean the top 5 proceed."
   ]
  },
  {
   "cell_type": "code",
   "execution_count": 26,
   "metadata": {},
   "outputs": [
    {
     "name": "stdout",
     "output_type": "stream",
     "text": [
      "['A.Ferguson', 'E.Cantona']\n",
      "['A.Ferguson', 'E.Cantona', 'N. Butt', 'P. Scholes']\n",
      "['A.Ferguson', 'E.Cantona', 'N. Butt', 'P. Scholes']\n"
     ]
    }
   ],
   "source": [
    "def make_the_cut(golfers):\n",
    "    \"\"\"Given an ordered list of golfers return a list of golfers that made the cut  \"\"\"\n",
    "    top = int(len(golfers) / 2) if len(golfers) % 2 == 0 else round(len(golfers) / 2)\n",
    "    \n",
    "    return golfers[:top]\n",
    "\n",
    "# Check your answer\n",
    "golfers1 = [\"A.Ferguson\", \"E.Cantona\", \"N. Butt\", \"P. Scholes\"]\n",
    "golfers2 = [\"A.Ferguson\", \"E.Cantona\", \"N. Butt\", \"P. Scholes\", \"G. Hoddle\",\"A. Shearer\", \"F. Asprilla\"]\n",
    "golfers3 = [\"A.Ferguson\", \"E.Cantona\", \"N. Butt\", \"P. Scholes\", \"G. Hoddle\",\"A. Shearer\", \"P. Beardsley\", \"F. Asprilla\"]\n",
    "\n",
    "\n",
    "print(make_the_cut(golfers1))\n",
    "print(make_the_cut(golfers2))\n",
    "print(make_the_cut(golfers3))"
   ]
  },
  {
   "cell_type": "code",
   "execution_count": 30,
   "metadata": {},
   "outputs": [
    {
     "name": "stdout",
     "output_type": "stream",
     "text": [
      "True\n",
      "False\n"
     ]
    }
   ],
   "source": [
    "def did_i_make_the_cut(golfers, name):\n",
    "    \"\"\"Given an ordered list of golfers and a golfers name return true if that player made the cut or false otherwise \"\"\"\n",
    "    cut = make_the_cut(golfers);\n",
    "    \n",
    "    for g in cut:\n",
    "        if g == name:\n",
    "            return True\n",
    "        \n",
    "    return False\n",
    "\n",
    "print(did_i_make_the_cut(golfers3,'P. Scholes'))\n",
    "print(did_i_make_the_cut(golfers3,'G. Hoddle'))"
   ]
  },
  {
   "cell_type": "code",
   "execution_count": null,
   "metadata": {},
   "outputs": [],
   "source": []
  }
 ],
 "metadata": {
  "kernelspec": {
   "display_name": "Python 3 (ipykernel)",
   "language": "python",
   "name": "python3"
  },
  "language_info": {
   "codemirror_mode": {
    "name": "ipython",
    "version": 3
   },
   "file_extension": ".py",
   "mimetype": "text/x-python",
   "name": "python",
   "nbconvert_exporter": "python",
   "pygments_lexer": "ipython3",
   "version": "3.9.13"
  },
  "learntools_metadata": {
   "lesson_index": 3,
   "type": "exercise"
  }
 },
 "nbformat": 4,
 "nbformat_minor": 2
}

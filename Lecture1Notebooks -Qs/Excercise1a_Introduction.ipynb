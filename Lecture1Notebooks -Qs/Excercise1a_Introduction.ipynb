{
 "cells": [
  {
   "cell_type": "code",
   "execution_count": 1,
   "metadata": {},
   "outputs": [
    {
     "ename": "SyntaxError",
     "evalue": "invalid syntax (336385942.py, line 5)",
     "output_type": "error",
     "traceback": [
      "\u001b[1;36m  File \u001b[1;32m\"C:\\Users\\ivych\\AppData\\Local\\Temp\\ipykernel_15116\\336385942.py\"\u001b[1;36m, line \u001b[1;32m5\u001b[0m\n\u001b[1;33m    Notebooks are composed of blocks (called \"cells\") of text and code.\u001b[0m\n\u001b[1;37m              ^\u001b[0m\n\u001b[1;31mSyntaxError\u001b[0m\u001b[1;31m:\u001b[0m invalid syntax\n"
     ]
    }
   ],
   "source": [
    "# This is your first Python Notebook!\n",
    " \n",
    "##### A similar tutorial is available at  https://www.kaggle.com/colinmorris/hello-python\n",
    "\n",
    "Notebooks are composed of blocks (called \"cells\") of text and code. \n",
    "\n",
    "This cell is just for text and is called a \"Markdown\" cell.\n",
    "These cells are used for comments.\n",
    "\n",
    "The cell underneath is runnable Python code and is called a \"Code\" cell!\n",
    "\n",
    "You can determine whether a cell is Markdown or Code using the dropdown menu beside the ►► button at the top of the page.\n",
    "Both cell types are editable.\n",
    "\n",
    "##### Notes on Markdown\n",
    "In Data Science (as with any coding exercise) it is important to comment your work, you will do this using markdown.\n",
    "\n",
    "You can edit this markdown cell by double clicking on it.\n",
    "\n",
    "Note the use of # to identify headings.\n",
    "\n",
    "You can find more details on Markdown functionality here: __[Markdown for Jupyter notebooks cheatsheet](https://www.ibm.com/support/knowledgecenter/SSHGWL_1.2.3/analyze-data/markd-jupyter.html)__\n",
    "##### Run the code cell below (by pressing the ► button, or clicking on the cell and pressing ctrl+enter on your keyboard)."
   ]
  },
  {
   "cell_type": "code",
   "execution_count": null,
   "metadata": {
    "scrolled": true
   },
   "outputs": [],
   "source": [
    "print(\"This is Ivy's first notebook\")"
   ]
  },
  {
   "cell_type": "markdown",
   "metadata": {},
   "source": [
    "## Task0\n",
    "Change the messages above to write a message to yourself and re-run the cell.\n",
    "\n",
    "\n",
    "Look at the options in the \"Insert\" tab above. \n",
    "You can insert cells above (Esc+a) or below (Esc+b) the cell you are working on\n",
    "\n",
    "\n",
    "Look at the options in the \"Edit\" tab above. You can\n",
    "\n",
    "        1 Add cells(Esc+a)\n",
    "\n",
    "        2 Remove cells (Esc+dd)\n",
    "        \n",
    "        3 Split and merge cells\n",
    "\n",
    "\n",
    "Create a new code cell below this markdown cell.\n",
    "Create a variable message that stores the string \"Data Science is the future!\" and print it.\n",
    "\n",
    "Remember:\n",
    "##### Run the code cell below (by pressing the ► button, or clicking on the cell and pressing ctrl+enter on your keyboard)."
   ]
  },
  {
   "cell_type": "code",
   "execution_count": null,
   "metadata": {},
   "outputs": [],
   "source": [
    "message = \"Data Science is the future!\" \n",
    "print(message)"
   ]
  },
  {
   "cell_type": "markdown",
   "metadata": {},
   "source": [
    "## Task1\n",
    "\n",
    "\n",
    "Here is the table of available arithmetic operations:\n",
    "\n",
    "| Operator     | Name           | Description                                            |\n",
    "|--------------|----------------|--------------------------------------------------------|\n",
    "| ``a + b``    | Addition       | Sum of ``a`` and ``b``                                 |\n",
    "| ``a - b``    | Subtraction    | Difference of ``a`` and ``b``                          |\n",
    "| ``a * b``    | Multiplication | Product of ``a`` and ``b``                             |\n",
    "| ``a / b``    | True division  | Quotient of ``a`` and ``b``                            |\n",
    "| ``a // b``   | Floor division | Quotient of ``a`` and ``b``, removing fractional parts |\n",
    "| ``a % b``    | Modulus        | Integer remainder after division of ``a`` by ``b``     |\n",
    "| ``a ** b``   | Exponentiation | ``a`` raised to the power of ``b``                     |\n",
    "| ``-a``       | Negation       | The negative of ``a``                                  |\n",
    "\n",
    "### Task1a\n",
    "Complete the code below. "
   ]
  },
  {
   "cell_type": "code",
   "execution_count": 6,
   "metadata": {
    "scrolled": true
   },
   "outputs": [
    {
     "name": "stdout",
     "output_type": "stream",
     "text": [
      "7.068577499999999\n"
     ]
    }
   ],
   "source": [
    "pi = 3.14159 # approximate\n",
    "diameter = 3\n",
    "\n",
    "# Create a variable called 'radius' equal to half the diameter\n",
    "radius = 0.5 * diameter\n",
    "\n",
    "\n",
    "# Create a variable called 'area', using the formula for the area of a circle: pi times the radius squared\n",
    "area = pi * radius * radius\n",
    "\n",
    "\n",
    "# Print your answer - should be 7.0685775\n",
    "print(area)\n",
    "\n"
   ]
  },
  {
   "cell_type": "markdown",
   "metadata": {},
   "source": [
    "### Task1b\n",
    "Matthew, Mark and Lucy have raided an orchard full of apples and split it evenly among themselves. Any apples left over will be given to Bob their pet pony. \n",
    "Write an arithmetic expression below to calculate how many apples Bob gets! \n",
    "Answer should be 2"
   ]
  },
  {
   "cell_type": "code",
   "execution_count": 5,
   "metadata": {},
   "outputs": [
    {
     "name": "stdout",
     "output_type": "stream",
     "text": [
      "2\n"
     ]
    }
   ],
   "source": [
    "# The number of apples collected by alice, bob, and carol\n",
    "matthew_collected_apples = 359\n",
    "mark_collected_apples = 402\n",
    "lucy_collected_apples = 375\n",
    "\n",
    "# Your code goes here! Write an expression to calculate how many apples Bob gets\n",
    "# involving matthew_apples, mark_apples, and lucy_apples\n",
    "total = matthew_collected_apples + mark_collected_apples + lucy_collected_apples\n",
    "\n",
    "bob_apple_share = total % 3\n",
    "\n",
    "print(bob_apple_share)"
   ]
  },
  {
   "cell_type": "markdown",
   "metadata": {},
   "source": [
    "### Task1c\n",
    "Now write an expression below to calculate how many apples Matthew, Mark and Lucy get! \n",
    "Answer should be 378"
   ]
  },
  {
   "cell_type": "code",
   "execution_count": 7,
   "metadata": {},
   "outputs": [
    {
     "name": "stdout",
     "output_type": "stream",
     "text": [
      "378.0\n"
     ]
    }
   ],
   "source": [
    "apple_share = (total - bob_apple_share) / 3\n",
    "print(apple_share)"
   ]
  },
  {
   "cell_type": "markdown",
   "metadata": {},
   "source": [
    "## Task2\n",
    "\n"
   ]
  },
  {
   "cell_type": "code",
   "execution_count": 8,
   "metadata": {},
   "outputs": [
    {
     "name": "stdout",
     "output_type": "stream",
     "text": [
      "a =  3 2 1\n",
      "b =  1 2 3\n"
     ]
    }
   ],
   "source": [
    "########### Setup code - don't touch this part ######################\n",
    "# Here are examples of lists.\n",
    "a = [1, 2, 3]\n",
    "b = [3, 2, 1]\n",
    "\n",
    "######################################################################\n",
    "\n",
    "# Your code goes here. Swap the values to which a and b refer.\n",
    "\n",
    "temp = a\n",
    "a = b\n",
    "b = temp\n",
    "\n",
    "\n",
    "######################################################################\n",
    "\n",
    "# Check your answer\n",
    "#Should read \n",
    "# a =  3 2 1\n",
    "# b =  1 2 3\n",
    "\n",
    "print (\"a = \",*a)\n",
    "print (\"b = \",*b)"
   ]
  },
  {
   "cell_type": "markdown",
   "metadata": {},
   "source": [
    "### Task3a\n",
    "\n",
    "\n",
    "a) Add parentheses to the following expression so that it evaluates to 1 "
   ]
  },
  {
   "cell_type": "code",
   "execution_count": 3,
   "metadata": {},
   "outputs": [
    {
     "data": {
      "text/plain": [
       "1"
      ]
     },
     "execution_count": 3,
     "metadata": {},
     "output_type": "execute_result"
    }
   ],
   "source": [
    "(5-3)//2"
   ]
  },
  {
   "cell_type": "markdown",
   "metadata": {},
   "source": [
    "### Task3b\n",
    "\n",
    "\n",
    "a) Add parentheses to the following expression so that it evaluates to 0"
   ]
  },
  {
   "cell_type": "code",
   "execution_count": 9,
   "metadata": {},
   "outputs": [
    {
     "data": {
      "text/plain": [
       "0"
      ]
     },
     "execution_count": 9,
     "metadata": {},
     "output_type": "execute_result"
    }
   ],
   "source": [
    "8 - 3* 2 -(1 + 1)"
   ]
  },
  {
   "cell_type": "markdown",
   "metadata": {},
   "source": [
    "# Task4\n",
    "How variables are stored on the worksheet.\n",
    "\n",
    "### Notebook kernels \n",
    "A notebook kernel is an operating system process. It receives code snippets to execute from the notebook, runs these code snippets, and returns the result and output of the execution. It stores variables, functions etc. that are created in the kernel session. \n",
    "\n",
    "Here we will look at how the different code cells interact with each other in a given kernel.\n",
    "\n",
    "### Task4a\n",
    "In the Code cell below print the \"area\" variable you created above"
   ]
  },
  {
   "cell_type": "code",
   "execution_count": 10,
   "metadata": {},
   "outputs": [
    {
     "data": {
      "text/plain": [
       "7.068577499999999"
      ]
     },
     "execution_count": 10,
     "metadata": {},
     "output_type": "execute_result"
    }
   ],
   "source": [
    "area"
   ]
  },
  {
   "cell_type": "markdown",
   "metadata": {},
   "source": [
    "### Task4b\n",
    "You can remove all stored variables using options from the \"kernel\" tab above.\n",
    "Select \"Restart & clear output\" from the kernel tab.\n",
    "The output from all your cells is gone!\n",
    "\n",
    "### Task4c\n",
    "Run the code cell above where you print \"area\". What happens?\n",
    "### Task4d\n",
    "Now run the cell for Task1a <br>Then run the cell above. What happens?\n",
    "### Task4e\n",
    "Select \"Restart & Run All\" from the kernel tab. What happens?\n"
   ]
  },
  {
   "cell_type": "markdown",
   "metadata": {},
   "source": [
    "# Task5\n",
    "\n",
    "### More kernel interactions\n",
    "\n",
    "In the Code cell below print the \"bob_apple_share\" variable you created above"
   ]
  },
  {
   "cell_type": "code",
   "execution_count": 11,
   "metadata": {},
   "outputs": [
    {
     "data": {
      "text/plain": [
       "2"
      ]
     },
     "execution_count": 11,
     "metadata": {},
     "output_type": "execute_result"
    }
   ],
   "source": [
    "bob_apple_share"
   ]
  },
  {
   "cell_type": "markdown",
   "metadata": {},
   "source": [
    "### Task5b\n",
    "You can remove all stored variables using options from the \"kernel\" tab above.\n",
    "Select \"Restart & run all\" from the kernel tab.\n",
    "The output from all your cells created again!\n",
    "\n",
    "### Task5c\n",
    "Create a code cell below reassign \"mark_apples\" value to 100 and print it.\n",
    "### Task5d\n",
    "In the code cell below print the \"apple_share\" variable you created above has it changed?\n",
    "### Task5e\n",
    "In the code cell for task 1b reassign \"mark_apples\" value to 100.\n",
    "Select \"Restart & Run All\" from the kernel tab. What happens to apple_share?\n"
   ]
  },
  {
   "cell_type": "code",
   "execution_count": 12,
   "metadata": {},
   "outputs": [
    {
     "data": {
      "text/plain": [
       "378.0"
      ]
     },
     "execution_count": 12,
     "metadata": {},
     "output_type": "execute_result"
    }
   ],
   "source": [
    "mark_apples = 100\n",
    "apple_share"
   ]
  }
 ],
 "metadata": {
  "kernelspec": {
   "display_name": "Python 3 (ipykernel)",
   "language": "python",
   "name": "python3"
  },
  "language_info": {
   "codemirror_mode": {
    "name": "ipython",
    "version": 3
   },
   "file_extension": ".py",
   "mimetype": "text/x-python",
   "name": "python",
   "nbconvert_exporter": "python",
   "pygments_lexer": "ipython3",
   "version": "3.9.13"
  }
 },
 "nbformat": 4,
 "nbformat_minor": 2
}

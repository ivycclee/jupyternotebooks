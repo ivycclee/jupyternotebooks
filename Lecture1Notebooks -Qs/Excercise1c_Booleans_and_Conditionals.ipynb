{
 "cells": [
  {
   "cell_type": "markdown",
   "metadata": {},
   "source": [
    "# Exercises\n",
    "https://www.kaggle.com/learn/python"
   ]
  },
  {
   "cell_type": "markdown",
   "metadata": {},
   "source": [
    "## 1.\n",
    "\n",
    "Many programming languages have [`sign`](https://en.wikipedia.org/wiki/Sign_function) available as a built-in function. Python doesn't, but we can define our own!\n",
    "\n",
    "In the cell below, define a function called `sign` which takes a numerical argument and returns -1 if it's negative, 1 if it's positive, and 0 if it's 0."
   ]
  },
  {
   "cell_type": "code",
   "execution_count": 1,
   "metadata": {},
   "outputs": [
    {
     "name": "stdout",
     "output_type": "stream",
     "text": [
      "1\n",
      "0\n",
      "-1\n"
     ]
    }
   ],
   "source": [
    "# Your code goes here. Define a function called 'sign'\n",
    "def sign(num):\n",
    "    if (num < 0):\n",
    "        return -1\n",
    "    elif (num == 0):\n",
    "        return 0\n",
    "    elif (num > 0):\n",
    "        return 1\n",
    "\n",
    "# Check your answer\n",
    "print(sign(10))\n",
    "print(sign(0))\n",
    "print(sign(-10))"
   ]
  },
  {
   "cell_type": "markdown",
   "metadata": {},
   "source": [
    "## 2.\n",
    "\n",
    "Create a grades_calculator function where we assign a grade based on the value of a test score:<br> \n",
    "A for a score of 90% or above<br> \n",
    "B for a score of 80% or above<br> \n",
    "C for a score of 70% or above<br> \n",
    "D for a score of 60% or above<br> \n",
    "F for a score of 59% or below<br> \n",
    "You will take an int (e.g 75) and return a string (eg \"Grade = C\")"
   ]
  },
  {
   "cell_type": "code",
   "execution_count": 8,
   "metadata": {},
   "outputs": [
    {
     "data": {
      "text/plain": [
       "'Grade = E'"
      ]
     },
     "execution_count": 8,
     "metadata": {},
     "output_type": "execute_result"
    }
   ],
   "source": [
    "def grades_calculator(marks, total_available=100):\n",
    "    \"\"\"Return the nappropriate grade\n",
    "    A for a score of 90% or above\n",
    "    B for a score of 80% or above\n",
    "    C for a score of 70% or above\n",
    "    D for a score of 60% or above\n",
    "    F for a score of 59% or below\n",
    "    >>> grades_calculator(85)\n",
    "    B\n",
    "    \"\"\"\n",
    "    if (marks / total_available * 100 >= 90):\n",
    "        return \"Grade = A\"\n",
    "    elif (marks / total_available * 100 >= 80):\n",
    "        return \"Grade = B\"\n",
    "    elif (marks / total_available * 100 >= 70):\n",
    "        return \"Grade = C\"\n",
    "    elif (marks / total_available * 100 >= 60):\n",
    "        return \"Grade = D\"\n",
    "    elif (marks / total_available * 100 >= 50):\n",
    "        return \"Grade = E\"\n",
    "    else:\n",
    "        return \"Grade = F\"\n",
    "\n",
    "grades_calculator(51)"
   ]
  },
  {
   "cell_type": "markdown",
   "metadata": {},
   "source": [
    "What if you are marking a quiz out of 20 or 60 marks?<br>\n",
    "Rewrite grades_calculator so it takes 2 args marks and total_available<br>\n",
    "Set the default value for total_availableto be 100"
   ]
  },
  {
   "cell_type": "code",
   "execution_count": 9,
   "metadata": {},
   "outputs": [
    {
     "name": "stdout",
     "output_type": "stream",
     "text": [
      "Grade = B\n",
      "Grade = E\n"
     ]
    }
   ],
   "source": [
    "\n",
    "\n",
    "print(grades_calculator(51,60))\n",
    "print(grades_calculator(51))"
   ]
  },
  {
   "cell_type": "markdown",
   "metadata": {},
   "source": [
    "## 3.\n",
    "\n",
    "Write the function `is_greater` - it returns True if the first given number is greater than the second and False otherwise.\n",
    "\n",
    "Write it so it's more verbose than it needs to be. use if/else satements.\n",
    "\n",
    "See if you can come up with an equivalent body that uses just **one line** of code, and put it in the function `concise_is_greater`. "
   ]
  },
  {
   "cell_type": "code",
   "execution_count": 16,
   "metadata": {},
   "outputs": [
    {
     "data": {
      "text/plain": [
       "99"
      ]
     },
     "execution_count": 16,
     "metadata": {},
     "output_type": "execute_result"
    }
   ],
   "source": [
    "def is_greater(num1,num2):\n",
    "    if (num1 > num2):\n",
    "        return num1\n",
    "    else:\n",
    "        return num2\n",
    "\n",
    "def concise_is_greater(num1,num2):\n",
    "    return num1 if num1 > num2 else num2\n",
    "\n",
    "# Check your answer\n",
    "is_greater(2, 5)\n",
    "\n",
    "concise_is_greater(6, 99)\n"
   ]
  },
  {
   "cell_type": "markdown",
   "metadata": {},
   "source": [
    "## 4.\n",
    "\n",
    "The pixel values `Red`, `Blue` and `Green` can be combinedto make other colours.<br>\n",
    "Given three boolean that describe whether each colour is present or not for a given pixel, complete these functions.\n",
    "https://qph.fs.quoracdn.net/main-qimg-ed0f013a964ff0ef4506b63b2333607e"
   ]
  },
  {
   "cell_type": "code",
   "execution_count": 22,
   "metadata": {},
   "outputs": [
    {
     "name": "stdout",
     "output_type": "stream",
     "text": [
      "true\n",
      "false\n",
      "false\n",
      "false\n"
     ]
    }
   ],
   "source": [
    "def is_white(red, blue, green):\n",
    "    \"\"\"Return whether the output colour is white (all colours present)\n",
    "    \"\"\"\n",
    "    return \"true\" if red == 1 and blue == 1 and green == 1 else \"false\"\n",
    "\n",
    "print(is_white(True, True, True))\n",
    "print(is_white(False, True, False))\n",
    "print(is_white(False, False, True))\n",
    "print(is_white(False, False, False))"
   ]
  },
  {
   "cell_type": "markdown",
   "metadata": {},
   "source": [
    "For each of the remaining functions, fill in the body to match the English description in the docstring. "
   ]
  },
  {
   "cell_type": "code",
   "execution_count": 23,
   "metadata": {},
   "outputs": [
    {
     "name": "stdout",
     "output_type": "stream",
     "text": [
      "false\n",
      "false\n",
      "false\n",
      "true\n"
     ]
    }
   ],
   "source": [
    "def is_black(red, blue, green):\n",
    "    \"\"\"Return whether the output colour is black (no colours present)\n",
    "    \"\"\"\n",
    "    return \"true\" if red == 0 and blue == 0 and green == 0 else \"false\"\n",
    "\n",
    "# Check your answer\n",
    "print(is_black(True, True, True))\n",
    "print(is_black(False, True, False))\n",
    "print(is_black(False, False, True))\n",
    "print(is_black(False, False, False))"
   ]
  },
  {
   "cell_type": "code",
   "execution_count": 24,
   "metadata": {},
   "outputs": [
    {
     "name": "stdout",
     "output_type": "stream",
     "text": [
      "true\n",
      "false\n"
     ]
    }
   ],
   "source": [
    "def is_magenta(red, blue, green):\n",
    "    \"\"\"Return whether the output colour is magenta (red and blue colours present, no green)\n",
    "    \"\"\"\n",
    "    return \"true\" if red == 1 and blue == 1 and green == 0 else \"false\"\n",
    "\n",
    "# Check your answer\n",
    "print(is_magenta(True, True, False))\n",
    "print(is_magenta(True, True, True))"
   ]
  },
  {
   "cell_type": "code",
   "execution_count": 26,
   "metadata": {},
   "outputs": [
    {
     "name": "stdout",
     "output_type": "stream",
     "text": [
      "pure red\n",
      "pure blue\n",
      "pure green\n",
      "not pure\n",
      "not pure\n",
      "not pure\n"
     ]
    }
   ],
   "source": [
    "def is_pure(red, blue, green):\n",
    "    \"\"\"Return whether the output colour is pure red, blue or green (only one boolean is true)\n",
    "    \"\"\"\n",
    "    if (red == 1 and blue == 0 and green == 0):\n",
    "        return \"pure red\"\n",
    "    \n",
    "    elif (red == 0 and blue == 1 and green == 0):\n",
    "        return \"pure blue\"\n",
    "    \n",
    "    elif (red == 0 and blue == 0 and green == 1):\n",
    "        return \"pure green\"\n",
    "\n",
    "    else:\n",
    "        return \"not pure\"\n",
    "# Check your answer\n",
    "print(is_pure(True, False, False))\n",
    "print(is_pure(False, True, False))\n",
    "print(is_pure(False, False, True))\n",
    "print(is_pure(False, False, False))\n",
    "print(is_pure(True, False, True))\n",
    "print(is_pure(False, True, True))"
   ]
  }
 ],
 "metadata": {
  "kernelspec": {
   "display_name": "Python 3 (ipykernel)",
   "language": "python",
   "name": "python3"
  },
  "language_info": {
   "codemirror_mode": {
    "name": "ipython",
    "version": 3
   },
   "file_extension": ".py",
   "mimetype": "text/x-python",
   "name": "python",
   "nbconvert_exporter": "python",
   "pygments_lexer": "ipython3",
   "version": "3.9.13"
  },
  "learntools_metadata": {
   "lesson_index": 2,
   "type": "exercise"
  }
 },
 "nbformat": 4,
 "nbformat_minor": 2
}

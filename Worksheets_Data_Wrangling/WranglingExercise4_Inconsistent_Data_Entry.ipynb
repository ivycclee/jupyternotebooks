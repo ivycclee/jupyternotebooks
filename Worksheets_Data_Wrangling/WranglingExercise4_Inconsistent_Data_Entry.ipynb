{
 "cells": [
  {
   "cell_type": "markdown",
   "metadata": {},
   "source": [
    "Reference **[Pandas Home Page](https://www.kaggle.com/learn/pandas)**\n",
    "\n",
    "---\n"
   ]
  },
  {
   "cell_type": "markdown",
   "metadata": {},
   "source": [
    "# Introduction\n",
    "\n",
    "Run the following cell to load your data and some utility functions."
   ]
  },
  {
   "cell_type": "code",
   "execution_count": 1,
   "metadata": {},
   "outputs": [],
   "source": [
    "import pandas as pd\n",
    "import numpy as np\n",
    "\n",
    "restaurants = pd.read_csv('data/zomato.csv')\n"
   ]
  },
  {
   "cell_type": "markdown",
   "metadata": {},
   "source": [
    "# Exercises"
   ]
  },
  {
   "cell_type": "markdown",
   "metadata": {},
   "source": [
    "## 1. \n",
    "What is the data type of the `rate` column in the dataset?"
   ]
  },
  {
   "cell_type": "code",
   "execution_count": 3,
   "metadata": {},
   "outputs": [
    {
     "data": {
      "text/plain": [
       "str"
      ]
     },
     "execution_count": 3,
     "metadata": {},
     "output_type": "execute_result"
    }
   ],
   "source": [
    "# Your code here\n",
    "dtype = type(restaurants.rate[0])\n",
    "# Check your answer\n",
    "dtype"
   ]
  },
  {
   "cell_type": "markdown",
   "metadata": {},
   "source": [
    "## 2. \n",
    "Create a Series from entries in the `points` column, but convert the entries to strings. Hint: strings are `str` in native Python."
   ]
  },
  {
   "cell_type": "code",
   "execution_count": 27,
   "metadata": {},
   "outputs": [
    {
     "data": {
      "text/plain": [
       "0         4.1/5\n",
       "1         4.1/5\n",
       "2         3.8/5\n",
       "3         3.7/5\n",
       "4         3.8/5\n",
       "          ...  \n",
       "51712    3.6 /5\n",
       "51713       nan\n",
       "51714       nan\n",
       "51715    4.3 /5\n",
       "51716    3.4 /5\n",
       "Name: rate, Length: 51717, dtype: object"
      ]
     },
     "execution_count": 27,
     "metadata": {},
     "output_type": "execute_result"
    }
   ],
   "source": [
    "rate_strings = restaurants.rate.apply(lambda x: str(x))\n",
    "\n",
    "# Check your answer\n",
    "rate_strings"
   ]
  },
  {
   "cell_type": "markdown",
   "metadata": {},
   "source": [
    "What values occur in the rate_strings series?"
   ]
  },
  {
   "cell_type": "code",
   "execution_count": 19,
   "metadata": {},
   "outputs": [
    {
     "data": {
      "text/plain": [
       "array(['4.1/5', '3.8/5', '3.7/5', '3.6/5', '4.6/5', '4.0/5', '4.2/5',\n",
       "       '3.9/5', '3.1/5', '3.0/5', '3.2/5', '3.3/5', '2.8/5', '4.4/5',\n",
       "       '4.3/5', 'NEW', '2.9/5', '3.5/5', 'nan', '2.6/5', '3.8 /5',\n",
       "       '3.4/5', '4.5/5', '2.5/5', '2.7/5', '4.7/5', '2.4/5', '2.2/5',\n",
       "       '2.3/5', '3.4 /5', '-', '3.6 /5', '4.8/5', '3.9 /5', '4.2 /5',\n",
       "       '4.0 /5', '4.1 /5', '3.7 /5', '3.1 /5', '2.9 /5', '3.3 /5',\n",
       "       '2.8 /5', '3.5 /5', '2.7 /5', '2.5 /5', '3.2 /5', '2.6 /5',\n",
       "       '4.5 /5', '4.3 /5', '4.4 /5', '4.9/5', '2.1/5', '2.0/5', '1.8/5',\n",
       "       '4.6 /5', '4.9 /5', '3.0 /5', '4.8 /5', '2.3 /5', '4.7 /5',\n",
       "       '2.4 /5', '2.1 /5', '2.2 /5', '2.0 /5', '1.8 /5'], dtype=object)"
      ]
     },
     "execution_count": 19,
     "metadata": {},
     "output_type": "execute_result"
    }
   ],
   "source": [
    "rate_strings.unique()"
   ]
  },
  {
   "cell_type": "markdown",
   "metadata": {},
   "source": [
    "Only use pd.eval(rate) on rate string values that contain the divisor symbol \"/\".\n",
    "<br>Else set the rate to np.nan"
   ]
  },
  {
   "cell_type": "code",
   "execution_count": 32,
   "metadata": {},
   "outputs": [
    {
     "data": {
      "text/plain": [
       "0        0.82\n",
       "1        0.82\n",
       "2        0.76\n",
       "3        0.74\n",
       "4        0.76\n",
       "         ... \n",
       "51712    0.72\n",
       "51713     NaN\n",
       "51714     NaN\n",
       "51715    0.86\n",
       "51716    0.68\n",
       "Name: rate, Length: 51717, dtype: float64"
      ]
     },
     "execution_count": 32,
     "metadata": {},
     "output_type": "execute_result"
    }
   ],
   "source": [
    "bingo = rate_strings.apply(lambda r: pd.eval(r) if \"/\" in r else np.nan)\n",
    "bingo"
   ]
  },
  {
   "cell_type": "markdown",
   "metadata": {},
   "source": [
    "## 3.\n",
    "Now the the rate column can be null. How many reviews in the dataset are missing a rating?"
   ]
  },
  {
   "cell_type": "code",
   "execution_count": 34,
   "metadata": {},
   "outputs": [
    {
     "data": {
      "text/plain": [
       "10052"
      ]
     },
     "execution_count": 34,
     "metadata": {},
     "output_type": "execute_result"
    }
   ],
   "source": [
    "n_missing_rate = bingo.isnull().sum()\n",
    "\n",
    "# Check your answer\n",
    "n_missing_rate"
   ]
  },
  {
   "cell_type": "markdown",
   "metadata": {},
   "source": [
    "## 4.\n",
    "What is the most common rating? Sort in descending order.  Your output should look something like this:\n",
    "<br>0.78   -  3972\n",
    "<br>0.76   -    3873\n",
    "<br>0.74   -    3821\n",
    "<br>0.72   -    3316\n",
    "<br>0.80   -    3183"
   ]
  },
  {
   "cell_type": "code",
   "execution_count": 39,
   "metadata": {},
   "outputs": [
    {
     "data": {
      "text/plain": [
       "0.78    3972\n",
       "0.76    3873\n",
       "0.74    3821\n",
       "0.72    3316\n",
       "0.80    3183\n",
       "0.82    2948\n",
       "0.70    2784\n",
       "0.68    2476\n",
       "0.66    2310\n",
       "0.84    2184\n",
       "0.64    1873\n",
       "0.86    1693\n",
       "0.62    1561\n",
       "0.88    1147\n",
       "0.60    1023\n",
       "0.58     802\n",
       "0.90     656\n",
       "0.56     600\n",
       "0.54     307\n",
       "0.92     300\n",
       "0.52     260\n",
       "0.94     167\n",
       "0.50     101\n",
       "0.48      70\n",
       "0.96      66\n",
       "0.98      55\n",
       "0.46      51\n",
       "0.44      26\n",
       "0.42      24\n",
       "0.40      11\n",
       "0.36       5\n",
       "Name: rate, dtype: int64"
      ]
     },
     "execution_count": 39,
     "metadata": {},
     "output_type": "execute_result"
    }
   ],
   "source": [
    "ratings_count = bingo.value_counts()\n",
    "\n",
    "# Check your answer\n",
    "ratings_count"
   ]
  }
 ],
 "metadata": {
  "kernelspec": {
   "display_name": "Python 3 (ipykernel)",
   "language": "python",
   "name": "python3"
  },
  "language_info": {
   "codemirror_mode": {
    "name": "ipython",
    "version": 3
   },
   "file_extension": ".py",
   "mimetype": "text/x-python",
   "name": "python",
   "nbconvert_exporter": "python",
   "pygments_lexer": "ipython3",
   "version": "3.9.13"
  }
 },
 "nbformat": 4,
 "nbformat_minor": 2
}
